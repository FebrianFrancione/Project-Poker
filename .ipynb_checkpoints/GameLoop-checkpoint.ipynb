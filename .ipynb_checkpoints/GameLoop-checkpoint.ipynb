{
 "cells": [
  {
   "cell_type": "code",
   "execution_count": 10,
   "metadata": {},
   "outputs": [
    {
     "name": "stdout",
     "output_type": "stream",
     "text": [
      "Started the round 1\n",
      "Street \"preflop\" started. (community card = [])\n",
      "['C9', 'CK']\n",
      "[]\n",
      "\"p2\" declared \"call:10\"\n",
      "['D9', 'DQ']\n",
      "[]\n",
      "\"p1\" declared \"call:10\"\n",
      "Street \"flop\" started. (community card = ['ST', 'D5', 'H9'])\n",
      "['C9', 'CK']\n",
      "['ST', 'D5', 'H9']\n",
      "\"p2\" declared \"call:0\"\n",
      "['D9', 'DQ']\n",
      "['ST', 'D5', 'H9']\n",
      "\"p1\" declared \"call:0\"\n",
      "Street \"turn\" started. (community card = ['ST', 'D5', 'H9', 'SK'])\n",
      "['C9', 'CK']\n",
      "['ST', 'D5', 'H9', 'SK']\n",
      "\"p2\" declared \"call:0\"\n",
      "['D9', 'DQ']\n",
      "['ST', 'D5', 'H9', 'SK']\n",
      "\"p1\" declared \"call:0\"\n",
      "Street \"river\" started. (community card = ['ST', 'D5', 'H9', 'SK', 'D8'])\n",
      "['C9', 'CK']\n",
      "['ST', 'D5', 'H9', 'SK', 'D8']\n",
      "\"p2\" declared \"call:0\"\n",
      "['D9', 'DQ']\n",
      "['ST', 'D5', 'H9', 'SK', 'D8']\n",
      "\"p1\" declared \"call:0\"\n",
      "\"['p2']\" won the round 1 (stack = {'p1': 90, 'p2': 110})\n"
     ]
    }
   ],
   "source": [
    "from pypokerengine.api.game import setup_config, start_poker\n",
    "\n",
    "%run HonestPlayer.ipynb\n",
    "%run RLPokerPlayer.ipynb\n",
    "\n",
    "config = setup_config(max_round=1, initial_stack=100, small_blind_amount=5)\n",
    "config.register_player(name=\"p1\", algorithm=HonestPlayer())\n",
    "config.register_player(name=\"p2\", algorithm=HonestPlayer())\n",
    "game_result = start_poker(config, verbose=1)"
   ]
  }
 ],
 "metadata": {
  "kernelspec": {
   "display_name": "Python 3",
   "language": "python",
   "name": "python3"
  },
  "language_info": {
   "codemirror_mode": {
    "name": "ipython",
    "version": 3
   },
   "file_extension": ".py",
   "mimetype": "text/x-python",
   "name": "python",
   "nbconvert_exporter": "python",
   "pygments_lexer": "ipython3",
   "version": "3.8.3"
  }
 },
 "nbformat": 4,
 "nbformat_minor": 4
}
