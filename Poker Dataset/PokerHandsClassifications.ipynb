{
 "cells": [
  {
   "cell_type": "markdown",
   "metadata": {
    "collapsed": true
   },
   "source": [
    "# Poker Hands UCI Classifications\n",
    "The Poker Hands dataset is taken from here: https://archive.ics.uci.edu/ml/datasets/Poker+Hand"
   ]
  },
  {
   "cell_type": "code",
   "execution_count": 62,
   "metadata": {
    "pycharm": {
     "name": "#%%\n"
    }
   },
   "outputs": [],
   "source": [
    "import warnings\n",
    "import numpy as np\n",
    "import pandas as pd\n",
    "\n",
    "import sklearn.tree \n",
    "import sklearn.ensemble\n",
    "from sklearn import svm\n",
    "from sklearn.metrics import accuracy_score\n",
    "from sklearn.metrics import confusion_matrix\n",
    "from sklearn.neural_network import MLPClassifier\n",
    "from sklearn.linear_model import LogisticRegression\n",
    "from sklearn.model_selection import cross_val_score\n",
    "from sklearn.model_selection import KFold, train_test_split, StratifiedKFold\n",
    "\n",
    "import matplotlib.pyplot as plt"
   ]
  },
  {
   "cell_type": "markdown",
   "metadata": {},
   "source": [
    "Using the Poker Hands Dataset from UCI, we usse the pandas dataframes reader to save the values into Data_train and Data_test.\n",
    "The goal of this is to have two Dataframes holding the values in the file to be used in several classifications.\n",
    "Pandas was used for crosstables and data cleaning through column headers."
   ]
  },
  {
   "cell_type": "code",
   "execution_count": 63,
   "metadata": {
    "pycharm": {
     "name": "#%%\n"
    }
   },
   "outputs": [],
   "source": [
    "data_train = pd.read_csv('poker-hand-training-true.data', header=None)\n",
    "# print(data_train.shape)\n",
    "data_test = pd.read_csv('poker-hand-testing.data', header=None)\n",
    "# print(data_test.shape)\n"
   ]
  },
  {
   "cell_type": "markdown",
   "metadata": {},
   "source": [
    "We have now gotten a data_train shape of (25010, 11) where the last column signifies the poker hand class (0-9).\n",
    "Same goes for data_test, where its shape is (1000000, 11)."
   ]
  },
  {
   "cell_type": "code",
   "execution_count": 64,
   "metadata": {},
   "outputs": [],
   "source": [
    "data_train.columns = [\"Suit 1\", \"Card 1\", \"Suit 2\", \"Card 2\", \"Suit 3\", \"Card 3\",\"Suit 4\", \"Card 4\",\"Suit 5\", \"Card 5\",\"Poker Hand\"]\n",
    "# print(data_train.head())"
   ]
  },
  {
   "cell_type": "code",
   "execution_count": 65,
   "metadata": {},
   "outputs": [
    {
     "name": "stdout",
     "output_type": "stream",
     "text": [
      "   Suit 1  Card 1  Suit 2  Card 2  Suit 3  Card 3  Suit 4  Card 4  Suit 5  \\\n",
      "0       1       1       1      13       2       4       2       3       1   \n",
      "1       3      12       3       2       3      11       4       5       2   \n",
      "2       1       9       4       6       1       4       3       2       3   \n",
      "3       1       4       3      13       2      13       2       1       3   \n",
      "4       3      10       2       7       1       2       2      11       4   \n",
      "5       1       3       4       5       3       4       1      12       4   \n",
      "6       2       6       4      11       2       3       4       9       1   \n",
      "7       3       2       4       9       3       7       4       3       4   \n",
      "8       4       4       3      13       1       8       3       9       3   \n",
      "9       1       9       3       8       4       4       1       7       3   \n",
      "\n",
      "   Card 5  Poker Hand  \n",
      "0      12           0  \n",
      "1       5           1  \n",
      "2       9           1  \n",
      "3       6           1  \n",
      "4       9           0  \n",
      "5       6           0  \n",
      "6       7           0  \n",
      "7       5           0  \n",
      "8      10           0  \n",
      "9       5           0  \n"
     ]
    }
   ],
   "source": [
    "data_test.columns = [\"Suit 1\", \"Card 1\", \"Suit 2\", \"Card 2\", \"Suit 3\", \"Card 3\",\"Suit 4\", \"Card 4\",\"Suit 5\",\"Card 5\",\"Poker Hand\"]\n",
    "print(data_test.head(10))"
   ]
  },
  {
   "cell_type": "markdown",
   "metadata": {},
   "source": [
    "Using the pandas column function, we can set the names of the columns to represent Cards/Suits and Poker Hands."
   ]
  },
  {
   "cell_type": "markdown",
   "metadata": {},
   "source": [
    "Extracting Poker Hand type and features: First 10 columns are used in each X_train/X_testwhereas the last column is saved under the y_train/y_test."
   ]
  },
  {
   "cell_type": "code",
   "execution_count": 66,
   "metadata": {},
   "outputs": [],
   "source": [
    "X_train = data_train.iloc[:,:-1]\n",
    "y_train = data_train[\"Poker Hand\"]\n",
    "\n",
    "X_test = data_test.iloc[:,:-1]\n",
    "y_test = data_test[\"Poker Hand\"]"
   ]
  },
  {
   "cell_type": "code",
   "execution_count": 67,
   "metadata": {},
   "outputs": [
    {
     "name": "stdout",
     "output_type": "stream",
     "text": [
      "X_Training Shape: (25010, 10)\n",
      "X_Testing Shape: (1000000, 10)\n",
      "(25010,)\n",
      "0    9\n",
      "1    9\n",
      "2    9\n",
      "3    9\n",
      "4    9\n",
      "5    8\n",
      "6    8\n",
      "7    8\n",
      "8    8\n",
      "9    8\n",
      "Name: Poker Hand, dtype: int64\n",
      "(1000000,)\n",
      "0    0\n",
      "1    1\n",
      "2    1\n",
      "3    1\n",
      "4    0\n",
      "5    0\n",
      "6    0\n",
      "7    0\n",
      "8    0\n",
      "9    0\n",
      "Name: Poker Hand, dtype: int64\n"
     ]
    }
   ],
   "source": [
    "print(\"X_Training Shape:\",X_train.shape)\n",
    "print(\"X_Testing Shape:\",X_test.shape)\n",
    "print(y_train.head(10))\n",
    "print(y_train.shape)\n",
    "\n",
    "print(y_test.head(10))\n",
    "print(y_test.shape)"
   ]
  },
  {
   "cell_type": "markdown",
   "metadata": {},
   "source": [
    "We printed the first 10 rows in the head to show that the dataset has, by default, all Poker hands of class 9 in the first 5 rows in the X_Training."
   ]
  },
  {
   "cell_type": "markdown",
   "metadata": {},
   "source": [
    "Our first Classifier is the DecisionTreeClassification model. we set a max_depth of 9 and 2 and have differing results. Despite these parameter tunings, we find that the initial percentage is still approxiamtely 50% (Before preprocessing)."
   ]
  },
  {
   "cell_type": "code",
   "execution_count": 68,
   "metadata": {},
   "outputs": [
    {
     "name": "stdout",
     "output_type": "stream",
     "text": [
      "0.52719\n",
      "0.501209\n"
     ]
    }
   ],
   "source": [
    "clf = sklearn.tree.DecisionTreeClassifier(random_state=0, max_depth = 9, criterion=\"gini\").fit(X_train, y_train)\n",
    "clf2 = sklearn.tree.DecisionTreeClassifier(random_state=0, max_depth = 2, criterion=\"gini\").fit(X_train, y_train)\n",
    "y_pred = clf.predict(X_test)\n",
    "print(accuracy_score(y_test, y_pred, normalize=True))\n",
    "                                                                                                \n",
    "y_pred2 = clf2.predict(X_test)\n",
    "print(accuracy_score(y_test, y_pred2, normalize=True))"
   ]
  },
  {
   "cell_type": "markdown",
   "metadata": {},
   "source": [
    "Using DecisonTree Classifer and using max_depth of 9 will result in accuracy of 0.52719. To equalize accuracy with that of Logistic Regression, we select max_depth = 2.\n",
    "\n",
    "Our second model will be using LogisticRegression. We begin by setting a max_iter of 100 and use lbfgs. The accuracy prediction also shows an equal percentage as the DecisionTreeClassifer."
   ]
  },
  {
   "cell_type": "code",
   "execution_count": 69,
   "metadata": {},
   "outputs": [
    {
     "data": {
      "text/plain": [
       "0.501209"
      ]
     },
     "execution_count": 69,
     "metadata": {},
     "output_type": "execute_result"
    }
   ],
   "source": [
    "clf = sklearn.linear_model.LogisticRegression(random_state=0, solver=\"lbfgs\", max_iter=100, multi_class=\"ovr\").fit(X_train, y_train)\n",
    "y_pred = clf.predict(X_test)\n",
    "accuracy_score(y_pred,y_test)"
   ]
  },
  {
   "cell_type": "markdown",
   "metadata": {},
   "source": [
    "Moving on to RandomForestClassifier, we set up our model with 3 estimators. The result is slightly better than our previous two (lest it be DecisionTreeCLassifer with max_depth of 9), at 51.41%"
   ]
  },
  {
   "cell_type": "code",
   "execution_count": 70,
   "metadata": {},
   "outputs": [
    {
     "data": {
      "text/plain": [
       "0.514108"
      ]
     },
     "execution_count": 70,
     "metadata": {},
     "output_type": "execute_result"
    }
   ],
   "source": [
    "clf = sklearn.ensemble.RandomForestClassifier(criterion='gini', random_state=0, n_estimators=3).fit(X_train, y_train)\n",
    "y_pred = clf.predict(X_test)\n",
    "accuracy_score(y_pred,y_test)"
   ]
  },
  {
   "cell_type": "markdown",
   "metadata": {},
   "source": [
    "The SVM model is the slowest to train, and unfortunately, the accuracy predition is not better than the other models, resulting in the exact same prediction of 50.12% - we will not continue using this model as the efficacy of training is very slow for no additional benefits."
   ]
  },
  {
   "cell_type": "code",
   "execution_count": 59,
   "metadata": {},
   "outputs": [
    {
     "data": {
      "text/plain": [
       "0.501209"
      ]
     },
     "execution_count": 59,
     "metadata": {},
     "output_type": "execute_result"
    }
   ],
   "source": [
    "# SVM\n",
    "clf = sklearn.svm.SVC(kernel='linear')\n",
    "clf.fit(X_train,y_train) \n",
    "y_pred = clf.predict(X_test)\n",
    "accuracy_score(y_pred,y_test)\n",
    "\n",
    "# from svm 0.501209"
   ]
  },
  {
   "cell_type": "markdown",
   "metadata": {},
   "source": [
    "Just to verify our curiosity, we preprocess the data using sklearn's StandardScaler and retrain the svm. The results are still rather disappointing to say the least. Accuracy percentage: 55.63%"
   ]
  },
  {
   "cell_type": "markdown",
   "metadata": {},
   "source": [
    "Now comes the ever popular neural network classifier. Using Sci-kit learn's MLP Neural Network, we attain: before Preprocessing. We decided to use epoch/max_iter set to 1000 whilst also using the adam solver. We have also trained the model with two hidden_layer_size settings: 128,64,10 and 200,150,100. The former returns a 99.12% accuracy whereas the latter returns 98.77%. These results are found using an un-preprecessed dataset."
   ]
  },
  {
   "cell_type": "code",
   "execution_count": 74,
   "metadata": {},
   "outputs": [
    {
     "name": "stdout",
     "output_type": "stream",
     "text": [
      "Accuracy of MLPClassifier : '' 0.987748\n"
     ]
    }
   ],
   "source": [
    "def accuracy(confusion_matrix):\n",
    "   diagonal_sum = confusion_matrix.trace()\n",
    "   sum_of_all_elements = confusion_matrix.sum()\n",
    "   return diagonal_sum / sum_of_all_elements\n",
    "\n",
    "classifier = sklearn.neural_network.MLPClassifier(hidden_layer_sizes=(128,64,10), max_iter=1000,activation = 'relu',solver='adam',random_state=1).fit(X_train, y_train)\n",
    "y_pred = classifier.predict(X_test)\n",
    "cm = confusion_matrix(y_test, y_pred)\n",
    "print(\"Accuracy of MLPClassifier : ''\", accuracy(cm))\n",
    "\n",
    "# Accuracy of MLPClassifier : '' 0.99123 at 200, 150, 100"
   ]
  },
  {
   "cell_type": "markdown",
   "metadata": {},
   "source": [
    "After having tested the variety of models on our base dataset, we have an average of 50% accuracy rate. These are poor results if the hope is to have a poker agent that can win big. After all, if the poker agent can only achieve 50 % accuracy, bluffs, all-ins and betting will result in disastrous results in the long run."
   ]
  },
  {
   "cell_type": "markdown",
   "metadata": {},
   "source": [
    "We will now preprocess the data to achieve a higher accuracy. In order to do this, we must understand that the dataset is known to be heavily imbalanced. The fact that the columns are set up following the Cards/Suits pattern is cause for accuracy loss. A simple solution would be to rearrange the columns under strictly Cards then strictly Suits. "
   ]
  },
  {
   "cell_type": "code",
   "execution_count": 75,
   "metadata": {},
   "outputs": [],
   "source": [
    "X_train_processed = data_train.copy()\n",
    "cards = X_train_processed[[\"Card 1\", \"Card 2\", \"Card 3\", \"Card 4\", \"Card 5\"]]\n",
    "cards.values.sort()\n",
    "X_train_processed[[\"Card 1\", \"Card 2\", \"Card 3\", \"Card 4\", \"Card 5\"]] = cards\n",
    "X_train_processed = X_train_processed[[\"Card 1\", \"Card 2\", \"Card 3\", \"Card 4\", \"Card 5\", \"Suit 1\", \"Suit 2\", \"Suit 3\", \"Suit 4\", \"Suit 5\", \"Poker Hand\"]]\n",
    "\n",
    "\n",
    "X_test_processed = data_test.copy()\n",
    "cards = X_test_processed[[\"Card 1\", \"Card 2\", \"Card 3\", \"Card 4\", \"Card 5\"]]\n",
    "cards.values.sort()\n",
    "X_test_processed[[\"Card 1\", \"Card 2\", \"Card 3\", \"Card 4\", \"Card 5\"]] = cards\n",
    "X_test_processed = X_test_processed[[\"Card 1\", \"Card 2\", \"Card 3\", \"Card 4\", \"Card 5\", \"Suit 1\", \"Suit 2\", \"Suit 3\", \"Suit 4\", \"Suit 5\", \"Poker Hand\"]]\n",
    "\n",
    "X_train = X_train_processed.loc[:,X_train_processed.columns != \"Poker Hand\"]\n",
    "X_test = X_test_processed.loc[:,X_test_processed.columns != \"Poker Hand\"]"
   ]
  },
  {
   "cell_type": "markdown",
   "metadata": {},
   "source": [
    "We will now use a 10 fold Cross-validator on the Classifiers. Starting with the SVM, we get a  accuracy. below shows the svm after preprocessing but without 10-fold CV."
   ]
  },
  {
   "cell_type": "code",
   "execution_count": 76,
   "metadata": {},
   "outputs": [
    {
     "data": {
      "text/plain": [
       "0.55635"
      ]
     },
     "execution_count": 76,
     "metadata": {},
     "output_type": "execute_result"
    }
   ],
   "source": [
    "scaler = sklearn.preprocessing.StandardScaler().fit(X_train)\n",
    "X_scaled = scaler.transform(X_train)\n",
    "svm = sklearn.svm.SVC(kernel='linear')\n",
    "svm.fit(X_scaled, y_train)\n",
    "t_pred = svm.predict(scaler.transform(X_test))\n",
    "sklearn.metrics.accuracy_score(y_test, t_pred)\n",
    "# from second 0.55635 with preprocessing"
   ]
  },
  {
   "cell_type": "code",
   "execution_count": 77,
   "metadata": {},
   "outputs": [
    {
     "name": "stdout",
     "output_type": "stream",
     "text": [
      "1-Fold\n",
      "2-Fold\n",
      "3-Fold\n",
      "4-Fold\n",
      "5-Fold\n",
      "6-Fold\n",
      "7-Fold\n",
      "8-Fold\n",
      "9-Fold\n",
      "10-Fold\n",
      "0.5553778488604558\n"
     ]
    }
   ],
   "source": [
    "clf = sklearn.svm.SVC(kernel='linear')\n",
    "# cross_validation(alg, X_train, Y_train)\n",
    "kf = KFold(n_splits = 10, shuffle=True)\n",
    "\n",
    "acc = []\n",
    "matrix = None\n",
    "first = True\n",
    "\n",
    "i = 1\n",
    "for train_index, test_index in kf.split(X_train, y_train):\n",
    "    print('{}-Fold'.format(i))\n",
    "    fX_train, fX_test = X_train.iloc[train_index,:], X_train.iloc[test_index,:]\n",
    "    fy_train, fy_test = y_train[train_index], y_train[test_index]\n",
    "    clf.fit(fX_train, fy_train)\n",
    "    fy_pred = clf.predict(fX_test)\n",
    "    curr = accuracy_score(fy_test, fy_pred, normalize=True)\n",
    "    acc.append(curr)\n",
    "    i = i+1\n",
    "\n",
    "acc = pd.Series(acc)\n",
    "print(acc.mean())"
   ]
  },
  {
   "cell_type": "markdown",
   "metadata": {},
   "source": [
    "The 10-CV SVM returns 55.53% - we will no longer train SVM as we were expecting a minimum increase for the long wait time. Better performance can be had much faster with other models."
   ]
  },
  {
   "cell_type": "markdown",
   "metadata": {},
   "source": [
    "Below shows the 10-fold CV for DecisionTreeClassifier."
   ]
  },
  {
   "cell_type": "code",
   "execution_count": 78,
   "metadata": {},
   "outputs": [
    {
     "name": "stdout",
     "output_type": "stream",
     "text": [
      "1-Fold\n",
      "2-Fold\n",
      "3-Fold\n",
      "4-Fold\n",
      "5-Fold\n",
      "6-Fold\n",
      "7-Fold\n",
      "8-Fold\n",
      "9-Fold\n",
      "10-Fold\n",
      "0.9569372251099562\n"
     ]
    }
   ],
   "source": [
    "# using the same tree as before\n",
    "clf = sklearn.tree.DecisionTreeClassifier(random_state=1, criterion='gini')\n",
    "# cross_validation(alg, X_train, Y_train)\n",
    "kf = KFold(n_splits = 10, shuffle=True)\n",
    "\n",
    "acc = []\n",
    "matrix = None\n",
    "first = True\n",
    "\n",
    "i = 1\n",
    "for train_index, test_index in kf.split(X_train, y_train):\n",
    "    print('{}-Fold'.format(i))\n",
    "    fX_train, fX_test = X_train.iloc[train_index,:], X_train.iloc[test_index,:]\n",
    "    fy_train, fy_test = y_train[train_index], y_train[test_index]\n",
    "    clf.fit(fX_train, fy_train)\n",
    "    fy_pred = clf.predict(fX_test)\n",
    "    curr = accuracy_score(fy_test, fy_pred, normalize=True)\n",
    "    acc.append(curr)\n",
    "    i = i+1\n",
    "\n",
    "acc = pd.Series(acc)\n",
    "print(acc.mean())\n",
    "# return acc.mean()"
   ]
  },
  {
   "cell_type": "code",
   "execution_count": 79,
   "metadata": {},
   "outputs": [
    {
     "data": {
      "text/plain": [
       "0.960249"
      ]
     },
     "execution_count": 79,
     "metadata": {},
     "output_type": "execute_result"
    }
   ],
   "source": [
    "clf = sklearn.tree.DecisionTreeClassifier(random_state=1,criterion='gini')\n",
    "clf.fit(X_train, y_train)\n",
    "y_pred = clf.predict(X_test)\n",
    "accuracy_score(y_test, y_pred, normalize=True)"
   ]
  },
  {
   "cell_type": "markdown",
   "metadata": {},
   "source": [
    "96% is pretty good. We have essentially doubled the correctness of our predictions simply by re-arranging the cards into Cards and Suits. Compared to random state = 0, we get a better result using random state 1."
   ]
  },
  {
   "cell_type": "code",
   "execution_count": 80,
   "metadata": {},
   "outputs": [
    {
     "data": {
      "text/html": [
       "<div>\n",
       "<style scoped>\n",
       "    .dataframe tbody tr th:only-of-type {\n",
       "        vertical-align: middle;\n",
       "    }\n",
       "\n",
       "    .dataframe tbody tr th {\n",
       "        vertical-align: top;\n",
       "    }\n",
       "\n",
       "    .dataframe thead th {\n",
       "        text-align: right;\n",
       "    }\n",
       "</style>\n",
       "<table border=\"1\" class=\"dataframe\">\n",
       "  <thead>\n",
       "    <tr style=\"text-align: right;\">\n",
       "      <th>True</th>\n",
       "      <th>0</th>\n",
       "      <th>1</th>\n",
       "      <th>2</th>\n",
       "      <th>3</th>\n",
       "      <th>4</th>\n",
       "      <th>5</th>\n",
       "      <th>6</th>\n",
       "      <th>7</th>\n",
       "      <th>8</th>\n",
       "      <th>9</th>\n",
       "      <th>All</th>\n",
       "    </tr>\n",
       "    <tr>\n",
       "      <th>Predicted</th>\n",
       "      <th></th>\n",
       "      <th></th>\n",
       "      <th></th>\n",
       "      <th></th>\n",
       "      <th></th>\n",
       "      <th></th>\n",
       "      <th></th>\n",
       "      <th></th>\n",
       "      <th></th>\n",
       "      <th></th>\n",
       "      <th></th>\n",
       "    </tr>\n",
       "  </thead>\n",
       "  <tbody>\n",
       "    <tr>\n",
       "      <th>0</th>\n",
       "      <td>494264</td>\n",
       "      <td>2631</td>\n",
       "      <td>5</td>\n",
       "      <td>19</td>\n",
       "      <td>0</td>\n",
       "      <td>1864</td>\n",
       "      <td>0</td>\n",
       "      <td>0</td>\n",
       "      <td>0</td>\n",
       "      <td>0</td>\n",
       "      <td>498783</td>\n",
       "    </tr>\n",
       "    <tr>\n",
       "      <th>1</th>\n",
       "      <td>1556</td>\n",
       "      <td>408995</td>\n",
       "      <td>11216</td>\n",
       "      <td>1870</td>\n",
       "      <td>300</td>\n",
       "      <td>1</td>\n",
       "      <td>70</td>\n",
       "      <td>4</td>\n",
       "      <td>0</td>\n",
       "      <td>0</td>\n",
       "      <td>424012</td>\n",
       "    </tr>\n",
       "    <tr>\n",
       "      <th>2</th>\n",
       "      <td>0</td>\n",
       "      <td>9361</td>\n",
       "      <td>35858</td>\n",
       "      <td>490</td>\n",
       "      <td>153</td>\n",
       "      <td>0</td>\n",
       "      <td>440</td>\n",
       "      <td>23</td>\n",
       "      <td>0</td>\n",
       "      <td>0</td>\n",
       "      <td>46325</td>\n",
       "    </tr>\n",
       "    <tr>\n",
       "      <th>3</th>\n",
       "      <td>0</td>\n",
       "      <td>845</td>\n",
       "      <td>232</td>\n",
       "      <td>17664</td>\n",
       "      <td>0</td>\n",
       "      <td>0</td>\n",
       "      <td>619</td>\n",
       "      <td>144</td>\n",
       "      <td>0</td>\n",
       "      <td>0</td>\n",
       "      <td>19504</td>\n",
       "    </tr>\n",
       "    <tr>\n",
       "      <th>4</th>\n",
       "      <td>0</td>\n",
       "      <td>507</td>\n",
       "      <td>73</td>\n",
       "      <td>12</td>\n",
       "      <td>3004</td>\n",
       "      <td>0</td>\n",
       "      <td>0</td>\n",
       "      <td>0</td>\n",
       "      <td>12</td>\n",
       "      <td>0</td>\n",
       "      <td>3608</td>\n",
       "    </tr>\n",
       "    <tr>\n",
       "      <th>5</th>\n",
       "      <td>5389</td>\n",
       "      <td>24</td>\n",
       "      <td>0</td>\n",
       "      <td>0</td>\n",
       "      <td>0</td>\n",
       "      <td>131</td>\n",
       "      <td>0</td>\n",
       "      <td>0</td>\n",
       "      <td>0</td>\n",
       "      <td>0</td>\n",
       "      <td>5544</td>\n",
       "    </tr>\n",
       "    <tr>\n",
       "      <th>6</th>\n",
       "      <td>0</td>\n",
       "      <td>125</td>\n",
       "      <td>238</td>\n",
       "      <td>1012</td>\n",
       "      <td>0</td>\n",
       "      <td>0</td>\n",
       "      <td>285</td>\n",
       "      <td>14</td>\n",
       "      <td>0</td>\n",
       "      <td>0</td>\n",
       "      <td>1674</td>\n",
       "    </tr>\n",
       "    <tr>\n",
       "      <th>7</th>\n",
       "      <td>0</td>\n",
       "      <td>0</td>\n",
       "      <td>0</td>\n",
       "      <td>54</td>\n",
       "      <td>0</td>\n",
       "      <td>0</td>\n",
       "      <td>10</td>\n",
       "      <td>45</td>\n",
       "      <td>0</td>\n",
       "      <td>0</td>\n",
       "      <td>109</td>\n",
       "    </tr>\n",
       "    <tr>\n",
       "      <th>8</th>\n",
       "      <td>0</td>\n",
       "      <td>10</td>\n",
       "      <td>0</td>\n",
       "      <td>0</td>\n",
       "      <td>292</td>\n",
       "      <td>0</td>\n",
       "      <td>0</td>\n",
       "      <td>0</td>\n",
       "      <td>0</td>\n",
       "      <td>0</td>\n",
       "      <td>302</td>\n",
       "    </tr>\n",
       "    <tr>\n",
       "      <th>9</th>\n",
       "      <td>0</td>\n",
       "      <td>0</td>\n",
       "      <td>0</td>\n",
       "      <td>0</td>\n",
       "      <td>136</td>\n",
       "      <td>0</td>\n",
       "      <td>0</td>\n",
       "      <td>0</td>\n",
       "      <td>0</td>\n",
       "      <td>3</td>\n",
       "      <td>139</td>\n",
       "    </tr>\n",
       "    <tr>\n",
       "      <th>All</th>\n",
       "      <td>501209</td>\n",
       "      <td>422498</td>\n",
       "      <td>47622</td>\n",
       "      <td>21121</td>\n",
       "      <td>3885</td>\n",
       "      <td>1996</td>\n",
       "      <td>1424</td>\n",
       "      <td>230</td>\n",
       "      <td>12</td>\n",
       "      <td>3</td>\n",
       "      <td>1000000</td>\n",
       "    </tr>\n",
       "  </tbody>\n",
       "</table>\n",
       "</div>"
      ],
      "text/plain": [
       "True            0       1      2      3     4     5     6    7   8  9      All\n",
       "Predicted                                                                     \n",
       "0          494264    2631      5     19     0  1864     0    0   0  0   498783\n",
       "1            1556  408995  11216   1870   300     1    70    4   0  0   424012\n",
       "2               0    9361  35858    490   153     0   440   23   0  0    46325\n",
       "3               0     845    232  17664     0     0   619  144   0  0    19504\n",
       "4               0     507     73     12  3004     0     0    0  12  0     3608\n",
       "5            5389      24      0      0     0   131     0    0   0  0     5544\n",
       "6               0     125    238   1012     0     0   285   14   0  0     1674\n",
       "7               0       0      0     54     0     0    10   45   0  0      109\n",
       "8               0      10      0      0   292     0     0    0   0  0      302\n",
       "9               0       0      0      0   136     0     0    0   0  3      139\n",
       "All        501209  422498  47622  21121  3885  1996  1424  230  12  3  1000000"
      ]
     },
     "execution_count": 80,
     "metadata": {},
     "output_type": "execute_result"
    }
   ],
   "source": [
    "pd.crosstab(y_pred, y_test, rownames=['Predicted'], colnames=['True'], margins=True)"
   ]
  },
  {
   "cell_type": "markdown",
   "metadata": {},
   "source": [
    "By analyzing the data shown in the table, we can observe how the True/Predicted values in the upper end have prediction disparity. This means that the flushes and higher reward hands are causing prediction erros."
   ]
  },
  {
   "cell_type": "code",
   "execution_count": 14,
   "metadata": {},
   "outputs": [],
   "source": [
    "tmp = X_test[[\"Suit 1\", \"Suit 2\", \"Suit 3\", \"Suit 4\", \"Suit 5\"]]\n",
    "X_test[\"Unique\"] = tmp.apply(lambda x: len(np.unique(x)) , axis=1)"
   ]
  },
  {
   "cell_type": "code",
   "execution_count": 15,
   "metadata": {},
   "outputs": [],
   "source": [
    "tmp = X_train[[\"Suit 1\", \"Suit 2\", \"Suit 3\", \"Suit 4\", \"Suit 5\"]]\n",
    "X_train[\"Unique\"] = tmp.apply(lambda x: len(np.unique(x)) , axis=1)"
   ]
  },
  {
   "cell_type": "code",
   "execution_count": 16,
   "metadata": {},
   "outputs": [
    {
     "data": {
      "text/plain": [
       "0.965091"
      ]
     },
     "execution_count": 16,
     "metadata": {},
     "output_type": "execute_result"
    }
   ],
   "source": [
    "tree = sklearn.tree.DecisionTreeClassifier(random_state=0, criterion='gini')\n",
    "tree.fit(X_train, y_train)\n",
    "y_pred = tree.predict(X_test)\n",
    "accuracy_score(y_test, y_pred, normalize=True)"
   ]
  },
  {
   "cell_type": "markdown",
   "metadata": {},
   "source": [
    "Much better, we're now at 96%, slightly higher than previously but now the data should be more spread out and the prediciton should be less sparse."
   ]
  },
  {
   "cell_type": "code",
   "execution_count": 17,
   "metadata": {},
   "outputs": [
    {
     "data": {
      "text/html": [
       "<div>\n",
       "<style scoped>\n",
       "    .dataframe tbody tr th:only-of-type {\n",
       "        vertical-align: middle;\n",
       "    }\n",
       "\n",
       "    .dataframe tbody tr th {\n",
       "        vertical-align: top;\n",
       "    }\n",
       "\n",
       "    .dataframe thead th {\n",
       "        text-align: right;\n",
       "    }\n",
       "</style>\n",
       "<table border=\"1\" class=\"dataframe\">\n",
       "  <thead>\n",
       "    <tr style=\"text-align: right;\">\n",
       "      <th>True</th>\n",
       "      <th>0</th>\n",
       "      <th>1</th>\n",
       "      <th>2</th>\n",
       "      <th>3</th>\n",
       "      <th>4</th>\n",
       "      <th>5</th>\n",
       "      <th>6</th>\n",
       "      <th>7</th>\n",
       "      <th>8</th>\n",
       "      <th>9</th>\n",
       "      <th>All</th>\n",
       "    </tr>\n",
       "    <tr>\n",
       "      <th>Predicted</th>\n",
       "      <th></th>\n",
       "      <th></th>\n",
       "      <th></th>\n",
       "      <th></th>\n",
       "      <th></th>\n",
       "      <th></th>\n",
       "      <th></th>\n",
       "      <th></th>\n",
       "      <th></th>\n",
       "      <th></th>\n",
       "      <th></th>\n",
       "    </tr>\n",
       "  </thead>\n",
       "  <tbody>\n",
       "    <tr>\n",
       "      <th>0</th>\n",
       "      <td>499679</td>\n",
       "      <td>2802</td>\n",
       "      <td>0</td>\n",
       "      <td>15</td>\n",
       "      <td>0</td>\n",
       "      <td>875</td>\n",
       "      <td>0</td>\n",
       "      <td>0</td>\n",
       "      <td>0</td>\n",
       "      <td>0</td>\n",
       "      <td>503371</td>\n",
       "    </tr>\n",
       "    <tr>\n",
       "      <th>1</th>\n",
       "      <td>1530</td>\n",
       "      <td>407933</td>\n",
       "      <td>11807</td>\n",
       "      <td>1759</td>\n",
       "      <td>544</td>\n",
       "      <td>7</td>\n",
       "      <td>76</td>\n",
       "      <td>3</td>\n",
       "      <td>0</td>\n",
       "      <td>0</td>\n",
       "      <td>423659</td>\n",
       "    </tr>\n",
       "    <tr>\n",
       "      <th>2</th>\n",
       "      <td>0</td>\n",
       "      <td>10372</td>\n",
       "      <td>35024</td>\n",
       "      <td>618</td>\n",
       "      <td>141</td>\n",
       "      <td>0</td>\n",
       "      <td>427</td>\n",
       "      <td>28</td>\n",
       "      <td>0</td>\n",
       "      <td>0</td>\n",
       "      <td>46610</td>\n",
       "    </tr>\n",
       "    <tr>\n",
       "      <th>3</th>\n",
       "      <td>0</td>\n",
       "      <td>640</td>\n",
       "      <td>354</td>\n",
       "      <td>17801</td>\n",
       "      <td>0</td>\n",
       "      <td>0</td>\n",
       "      <td>634</td>\n",
       "      <td>144</td>\n",
       "      <td>0</td>\n",
       "      <td>0</td>\n",
       "      <td>19573</td>\n",
       "    </tr>\n",
       "    <tr>\n",
       "      <th>4</th>\n",
       "      <td>0</td>\n",
       "      <td>607</td>\n",
       "      <td>77</td>\n",
       "      <td>8</td>\n",
       "      <td>3200</td>\n",
       "      <td>0</td>\n",
       "      <td>0</td>\n",
       "      <td>0</td>\n",
       "      <td>7</td>\n",
       "      <td>0</td>\n",
       "      <td>3899</td>\n",
       "    </tr>\n",
       "    <tr>\n",
       "      <th>5</th>\n",
       "      <td>0</td>\n",
       "      <td>0</td>\n",
       "      <td>0</td>\n",
       "      <td>0</td>\n",
       "      <td>0</td>\n",
       "      <td>1114</td>\n",
       "      <td>0</td>\n",
       "      <td>0</td>\n",
       "      <td>0</td>\n",
       "      <td>0</td>\n",
       "      <td>1114</td>\n",
       "    </tr>\n",
       "    <tr>\n",
       "      <th>6</th>\n",
       "      <td>0</td>\n",
       "      <td>144</td>\n",
       "      <td>360</td>\n",
       "      <td>818</td>\n",
       "      <td>0</td>\n",
       "      <td>0</td>\n",
       "      <td>283</td>\n",
       "      <td>6</td>\n",
       "      <td>0</td>\n",
       "      <td>0</td>\n",
       "      <td>1611</td>\n",
       "    </tr>\n",
       "    <tr>\n",
       "      <th>7</th>\n",
       "      <td>0</td>\n",
       "      <td>0</td>\n",
       "      <td>0</td>\n",
       "      <td>102</td>\n",
       "      <td>0</td>\n",
       "      <td>0</td>\n",
       "      <td>4</td>\n",
       "      <td>49</td>\n",
       "      <td>0</td>\n",
       "      <td>0</td>\n",
       "      <td>155</td>\n",
       "    </tr>\n",
       "    <tr>\n",
       "      <th>8</th>\n",
       "      <td>0</td>\n",
       "      <td>0</td>\n",
       "      <td>0</td>\n",
       "      <td>0</td>\n",
       "      <td>0</td>\n",
       "      <td>0</td>\n",
       "      <td>0</td>\n",
       "      <td>0</td>\n",
       "      <td>5</td>\n",
       "      <td>0</td>\n",
       "      <td>5</td>\n",
       "    </tr>\n",
       "    <tr>\n",
       "      <th>9</th>\n",
       "      <td>0</td>\n",
       "      <td>0</td>\n",
       "      <td>0</td>\n",
       "      <td>0</td>\n",
       "      <td>0</td>\n",
       "      <td>0</td>\n",
       "      <td>0</td>\n",
       "      <td>0</td>\n",
       "      <td>0</td>\n",
       "      <td>3</td>\n",
       "      <td>3</td>\n",
       "    </tr>\n",
       "    <tr>\n",
       "      <th>All</th>\n",
       "      <td>501209</td>\n",
       "      <td>422498</td>\n",
       "      <td>47622</td>\n",
       "      <td>21121</td>\n",
       "      <td>3885</td>\n",
       "      <td>1996</td>\n",
       "      <td>1424</td>\n",
       "      <td>230</td>\n",
       "      <td>12</td>\n",
       "      <td>3</td>\n",
       "      <td>1000000</td>\n",
       "    </tr>\n",
       "  </tbody>\n",
       "</table>\n",
       "</div>"
      ],
      "text/plain": [
       "True            0       1      2      3     4     5     6    7   8  9      All\n",
       "Predicted                                                                     \n",
       "0          499679    2802      0     15     0   875     0    0   0  0   503371\n",
       "1            1530  407933  11807   1759   544     7    76    3   0  0   423659\n",
       "2               0   10372  35024    618   141     0   427   28   0  0    46610\n",
       "3               0     640    354  17801     0     0   634  144   0  0    19573\n",
       "4               0     607     77      8  3200     0     0    0   7  0     3899\n",
       "5               0       0      0      0     0  1114     0    0   0  0     1114\n",
       "6               0     144    360    818     0     0   283    6   0  0     1611\n",
       "7               0       0      0    102     0     0     4   49   0  0      155\n",
       "8               0       0      0      0     0     0     0    0   5  0        5\n",
       "9               0       0      0      0     0     0     0    0   0  3        3\n",
       "All        501209  422498  47622  21121  3885  1996  1424  230  12  3  1000000"
      ]
     },
     "execution_count": 17,
     "metadata": {},
     "output_type": "execute_result"
    }
   ],
   "source": [
    "pd.crosstab(y_pred, y_test, rownames=['Predicted'], colnames=['True'], margins=True)"
   ]
  },
  {
   "cell_type": "markdown",
   "metadata": {},
   "source": [
    "What we see in this cross tab: flushes have now been resolved but the last two poker hands are still slightly cause for mispredictions. 12-5 and 230-155, still these are very slight but can be cause for accuracy concerns. Straight flushes are bieng underepresented. "
   ]
  },
  {
   "cell_type": "code",
   "execution_count": 18,
   "metadata": {},
   "outputs": [
    {
     "data": {
      "text/plain": [
       "0.999836"
      ]
     },
     "execution_count": 18,
     "metadata": {},
     "output_type": "execute_result"
    }
   ],
   "source": [
    "X_train[\"Diff1\"] = X_train[\"Card 5\"] - X_train[\"Card 4\"]\n",
    "X_train[\"Diff2\"] = X_train[\"Card 4\"] - X_train[\"Card 3\"]\n",
    "X_train[\"Diff3\"] = X_train[\"Card 3\"] - X_train[\"Card 2\"]\n",
    "X_train[\"Diff4\"] = X_train[\"Card 2\"] - X_train[\"Card 1\"]\n",
    "\n",
    "X_test[\"Diff1\"] = X_test[\"Card 5\"] - X_test[\"Card 4\"]\n",
    "X_test[\"Diff2\"] = X_test[\"Card 4\"] - X_test[\"Card 3\"]\n",
    "X_test[\"Diff3\"] = X_test[\"Card 3\"] - X_test[\"Card 2\"]\n",
    "X_test[\"Diff4\"] = X_test[\"Card 2\"] - X_test[\"Card 1\"]\n",
    "\n",
    "tree = sklearn.tree.DecisionTreeClassifier(random_state=0, criterion='gini')\n",
    "tree.fit(X_train, y_train)\n",
    "y_pred = tree.predict(X_test)\n",
    "accuracy_score(y_test, y_pred, normalize=True)\n"
   ]
  },
  {
   "cell_type": "code",
   "execution_count": 19,
   "metadata": {},
   "outputs": [
    {
     "name": "stdout",
     "output_type": "stream",
     "text": [
      "1-Fold\n",
      "2-Fold\n",
      "3-Fold\n",
      "4-Fold\n",
      "5-Fold\n",
      "6-Fold\n",
      "7-Fold\n",
      "8-Fold\n",
      "9-Fold\n",
      "10-Fold\n",
      "0.9998000799680128\n"
     ]
    }
   ],
   "source": [
    "clf = sklearn.tree.DecisionTreeClassifier(random_state=1, criterion='gini')\n",
    "kf = KFold(n_splits = 10, shuffle=True)\n",
    "\n",
    "acc = []\n",
    "matrix = None\n",
    "first = True\n",
    "\n",
    "i = 1\n",
    "for train_index, test_index in kf.split(X_train, y_train):\n",
    "    print('{}-Fold'.format(i))\n",
    "    fX_train, fX_test = X_train.iloc[train_index,:], X_train.iloc[test_index,:]\n",
    "    fy_train, fy_test = y_train[train_index], y_train[test_index]\n",
    "    clf.fit(fX_train, fy_train)\n",
    "    fy_pred = clf.predict(fX_test)\n",
    "    curr = accuracy_score(fy_test, fy_pred, normalize=True)\n",
    "    acc.append(curr)\n",
    "    i = i+1\n",
    "\n",
    "acc = pd.Series(acc)\n",
    "print(acc.mean())"
   ]
  },
  {
   "cell_type": "markdown",
   "metadata": {},
   "source": [
    "Much better! Now we find our predictions to be in the upper 99.984% bound of accuracy predicions.\n"
   ]
  },
  {
   "cell_type": "code",
   "execution_count": 20,
   "metadata": {},
   "outputs": [
    {
     "data": {
      "text/html": [
       "<div>\n",
       "<style scoped>\n",
       "    .dataframe tbody tr th:only-of-type {\n",
       "        vertical-align: middle;\n",
       "    }\n",
       "\n",
       "    .dataframe tbody tr th {\n",
       "        vertical-align: top;\n",
       "    }\n",
       "\n",
       "    .dataframe thead th {\n",
       "        text-align: right;\n",
       "    }\n",
       "</style>\n",
       "<table border=\"1\" class=\"dataframe\">\n",
       "  <thead>\n",
       "    <tr style=\"text-align: right;\">\n",
       "      <th>True</th>\n",
       "      <th>0</th>\n",
       "      <th>1</th>\n",
       "      <th>2</th>\n",
       "      <th>3</th>\n",
       "      <th>4</th>\n",
       "      <th>5</th>\n",
       "      <th>6</th>\n",
       "      <th>7</th>\n",
       "      <th>8</th>\n",
       "      <th>9</th>\n",
       "      <th>All</th>\n",
       "    </tr>\n",
       "    <tr>\n",
       "      <th>Predicted</th>\n",
       "      <th></th>\n",
       "      <th></th>\n",
       "      <th></th>\n",
       "      <th></th>\n",
       "      <th></th>\n",
       "      <th></th>\n",
       "      <th></th>\n",
       "      <th></th>\n",
       "      <th></th>\n",
       "      <th></th>\n",
       "      <th></th>\n",
       "    </tr>\n",
       "  </thead>\n",
       "  <tbody>\n",
       "    <tr>\n",
       "      <th>0</th>\n",
       "      <td>501209</td>\n",
       "      <td>0</td>\n",
       "      <td>0</td>\n",
       "      <td>0</td>\n",
       "      <td>0</td>\n",
       "      <td>0</td>\n",
       "      <td>0</td>\n",
       "      <td>0</td>\n",
       "      <td>0</td>\n",
       "      <td>0</td>\n",
       "      <td>501209</td>\n",
       "    </tr>\n",
       "    <tr>\n",
       "      <th>1</th>\n",
       "      <td>0</td>\n",
       "      <td>422498</td>\n",
       "      <td>0</td>\n",
       "      <td>0</td>\n",
       "      <td>0</td>\n",
       "      <td>0</td>\n",
       "      <td>0</td>\n",
       "      <td>0</td>\n",
       "      <td>0</td>\n",
       "      <td>0</td>\n",
       "      <td>422498</td>\n",
       "    </tr>\n",
       "    <tr>\n",
       "      <th>2</th>\n",
       "      <td>0</td>\n",
       "      <td>0</td>\n",
       "      <td>47622</td>\n",
       "      <td>0</td>\n",
       "      <td>0</td>\n",
       "      <td>0</td>\n",
       "      <td>0</td>\n",
       "      <td>0</td>\n",
       "      <td>0</td>\n",
       "      <td>0</td>\n",
       "      <td>47622</td>\n",
       "    </tr>\n",
       "    <tr>\n",
       "      <th>3</th>\n",
       "      <td>0</td>\n",
       "      <td>0</td>\n",
       "      <td>0</td>\n",
       "      <td>21121</td>\n",
       "      <td>0</td>\n",
       "      <td>0</td>\n",
       "      <td>0</td>\n",
       "      <td>0</td>\n",
       "      <td>0</td>\n",
       "      <td>0</td>\n",
       "      <td>21121</td>\n",
       "    </tr>\n",
       "    <tr>\n",
       "      <th>4</th>\n",
       "      <td>0</td>\n",
       "      <td>0</td>\n",
       "      <td>0</td>\n",
       "      <td>0</td>\n",
       "      <td>3885</td>\n",
       "      <td>0</td>\n",
       "      <td>0</td>\n",
       "      <td>0</td>\n",
       "      <td>0</td>\n",
       "      <td>0</td>\n",
       "      <td>3885</td>\n",
       "    </tr>\n",
       "    <tr>\n",
       "      <th>5</th>\n",
       "      <td>0</td>\n",
       "      <td>0</td>\n",
       "      <td>0</td>\n",
       "      <td>0</td>\n",
       "      <td>0</td>\n",
       "      <td>1836</td>\n",
       "      <td>0</td>\n",
       "      <td>0</td>\n",
       "      <td>4</td>\n",
       "      <td>0</td>\n",
       "      <td>1840</td>\n",
       "    </tr>\n",
       "    <tr>\n",
       "      <th>6</th>\n",
       "      <td>0</td>\n",
       "      <td>0</td>\n",
       "      <td>0</td>\n",
       "      <td>0</td>\n",
       "      <td>0</td>\n",
       "      <td>0</td>\n",
       "      <td>1424</td>\n",
       "      <td>0</td>\n",
       "      <td>0</td>\n",
       "      <td>0</td>\n",
       "      <td>1424</td>\n",
       "    </tr>\n",
       "    <tr>\n",
       "      <th>7</th>\n",
       "      <td>0</td>\n",
       "      <td>0</td>\n",
       "      <td>0</td>\n",
       "      <td>0</td>\n",
       "      <td>0</td>\n",
       "      <td>0</td>\n",
       "      <td>0</td>\n",
       "      <td>230</td>\n",
       "      <td>0</td>\n",
       "      <td>0</td>\n",
       "      <td>230</td>\n",
       "    </tr>\n",
       "    <tr>\n",
       "      <th>8</th>\n",
       "      <td>0</td>\n",
       "      <td>0</td>\n",
       "      <td>0</td>\n",
       "      <td>0</td>\n",
       "      <td>0</td>\n",
       "      <td>152</td>\n",
       "      <td>0</td>\n",
       "      <td>0</td>\n",
       "      <td>8</td>\n",
       "      <td>0</td>\n",
       "      <td>160</td>\n",
       "    </tr>\n",
       "    <tr>\n",
       "      <th>9</th>\n",
       "      <td>0</td>\n",
       "      <td>0</td>\n",
       "      <td>0</td>\n",
       "      <td>0</td>\n",
       "      <td>0</td>\n",
       "      <td>8</td>\n",
       "      <td>0</td>\n",
       "      <td>0</td>\n",
       "      <td>0</td>\n",
       "      <td>3</td>\n",
       "      <td>11</td>\n",
       "    </tr>\n",
       "    <tr>\n",
       "      <th>All</th>\n",
       "      <td>501209</td>\n",
       "      <td>422498</td>\n",
       "      <td>47622</td>\n",
       "      <td>21121</td>\n",
       "      <td>3885</td>\n",
       "      <td>1996</td>\n",
       "      <td>1424</td>\n",
       "      <td>230</td>\n",
       "      <td>12</td>\n",
       "      <td>3</td>\n",
       "      <td>1000000</td>\n",
       "    </tr>\n",
       "  </tbody>\n",
       "</table>\n",
       "</div>"
      ],
      "text/plain": [
       "True            0       1      2      3     4     5     6    7   8  9      All\n",
       "Predicted                                                                     \n",
       "0          501209       0      0      0     0     0     0    0   0  0   501209\n",
       "1               0  422498      0      0     0     0     0    0   0  0   422498\n",
       "2               0       0  47622      0     0     0     0    0   0  0    47622\n",
       "3               0       0      0  21121     0     0     0    0   0  0    21121\n",
       "4               0       0      0      0  3885     0     0    0   0  0     3885\n",
       "5               0       0      0      0     0  1836     0    0   4  0     1840\n",
       "6               0       0      0      0     0     0  1424    0   0  0     1424\n",
       "7               0       0      0      0     0     0     0  230   0  0      230\n",
       "8               0       0      0      0     0   152     0    0   8  0      160\n",
       "9               0       0      0      0     0     8     0    0   0  3       11\n",
       "All        501209  422498  47622  21121  3885  1996  1424  230  12  3  1000000"
      ]
     },
     "execution_count": 20,
     "metadata": {},
     "output_type": "execute_result"
    }
   ],
   "source": [
    "pd.crosstab(y_pred, y_test, rownames=['Predicted'], colnames=['True'], margins=True)"
   ]
  },
  {
   "cell_type": "markdown",
   "metadata": {},
   "source": [
    "We now see that the model is bad at predicting flushes and above (The stronger hands). We have concluded that\n",
    "the Decision Tree Classifer is decent at prediciting weaker hands but continuously struugles in predicitng with stronger ones."
   ]
  },
  {
   "cell_type": "code",
   "execution_count": 21,
   "metadata": {},
   "outputs": [
    {
     "name": "stdout",
     "output_type": "stream",
     "text": [
      "1-Fold\n",
      "2-Fold\n",
      "3-Fold\n",
      "4-Fold\n",
      "5-Fold\n",
      "6-Fold\n",
      "7-Fold\n",
      "8-Fold\n",
      "9-Fold\n",
      "10-Fold\n",
      "0.9982007197121152\n"
     ]
    }
   ],
   "source": [
    "clf = sklearn.ensemble.RandomForestClassifier(criterion='gini', n_estimators=10, random_state=111, n_jobs=4)\n",
    "# cross_validation(alg, X_train, Y_train)\n",
    "\n",
    "kf = KFold(n_splits = 10, shuffle=True)\n",
    "\n",
    "acc = []\n",
    "matrix = None\n",
    "first = True\n",
    "\n",
    "i = 1\n",
    "for train_index, test_index in kf.split(X_train, y_train):\n",
    "    print('{}-Fold'.format(i))\n",
    "    fX_train, fX_test = X_train.iloc[train_index,:], X_train.iloc[test_index,:]\n",
    "    fy_train, fy_test = y_train[train_index], y_train[test_index]\n",
    "    clf.fit(fX_train, fy_train)\n",
    "    fy_pred = clf.predict(fX_test)\n",
    "    curr = accuracy_score(fy_test, fy_pred, normalize=True)\n",
    "    acc.append(curr)\n",
    "    i = i+1\n",
    "\n",
    "acc = pd.Series(acc)\n",
    "print(acc.mean())"
   ]
  },
  {
   "cell_type": "markdown",
   "metadata": {},
   "source": [
    "With Random Forest Classifier, we get a 99.84% accuracy rate."
   ]
  },
  {
   "cell_type": "code",
   "execution_count": 87,
   "metadata": {},
   "outputs": [
    {
     "name": "stdout",
     "output_type": "stream",
     "text": [
      "1-Fold\n",
      "2-Fold\n",
      "3-Fold\n",
      "4-Fold\n",
      "5-Fold\n",
      "6-Fold\n",
      "7-Fold\n",
      "8-Fold\n",
      "9-Fold\n",
      "10-Fold\n",
      "0.5527788884446222\n"
     ]
    }
   ],
   "source": [
    "clf = sklearn.linear_model.LogisticRegression(random_state=0, solver=\"lbfgs\", max_iter=100, multi_class=\"ovr\")\n",
    "kf = KFold(n_splits = 10, shuffle=True)\n",
    "\n",
    "acc = []\n",
    "matrix = None\n",
    "first = True\n",
    "\n",
    "i = 1\n",
    "for train_index, test_index in kf.split(X_train, y_train):\n",
    "    print('{}-Fold'.format(i))\n",
    "    fX_train, fX_test = X_train.iloc[train_index,:], X_train.iloc[test_index,:]\n",
    "    fy_train, fy_test = y_train[train_index], y_train[test_index]\n",
    "    clf.fit(fX_train, fy_train)\n",
    "    fy_pred = clf.predict(fX_test)\n",
    "    curr = accuracy_score(fy_test, fy_pred, normalize=True)\n",
    "    acc.append(curr)\n",
    "    i = i+1\n",
    "\n",
    "acc = pd.Series(acc)\n",
    "print(acc.mean())"
   ]
  },
  {
   "cell_type": "markdown",
   "metadata": {},
   "source": [
    "10-Fold CV for LogisitcRegression is not that great compared to other models. Sitting at 55.27% accuracy, other models simply outperform this one by 40+ percentage points."
   ]
  },
  {
   "cell_type": "markdown",
   "metadata": {},
   "source": [
    "Neural Network: Here we have excellent results, accuracies close to 100%. By changing the hidden-layers, we approach 99.95% at 150,100,50. This is "
   ]
  },
  {
   "cell_type": "code",
   "execution_count": 84,
   "metadata": {},
   "outputs": [
    {
     "name": "stdout",
     "output_type": "stream",
     "text": [
      "Accuracy of MLPClassifier : '' 0.99893\n"
     ]
    }
   ],
   "source": [
    "def accuracy(confusion_matrix):\n",
    "   diagonal_sum = confusion_matrix.trace()\n",
    "   sum_of_all_elements = confusion_matrix.sum()\n",
    "   return diagonal_sum / sum_of_all_elements\n",
    "\n",
    "classifier = sklearn.neural_network.MLPClassifier(hidden_layer_sizes=(200,150,100), max_iter=1000,activation = 'relu',solver='adam',random_state=1).fit(X_train, y_train)\n",
    "y_pred = classifier.predict(X_test)\n",
    "cm = confusion_matrix(y_test, y_pred)\n",
    "print(\"Accuracy of MLPClassifier : ''\", accuracy(cm))"
   ]
  },
  {
   "cell_type": "markdown",
   "metadata": {},
   "source": [
    "Accuracy of MLPClassifier : '' 99.66% with 128,64,10\n",
    "\n",
    "Accuracy of MLPClassifier : '' 99.95% with 150,100,50\n",
    "\n",
    "Accuracy of MLPClassifier : '' 99.89% with 200,150,100"
   ]
  },
  {
   "cell_type": "code",
   "execution_count": null,
   "metadata": {},
   "outputs": [],
   "source": [
    "def accuracy(confusion_matrix):\n",
    "   diagonal_sum = confusion_matrix.trace()\n",
    "   sum_of_all_elements = confusion_matrix.sum()\n",
    "   return diagonal_sum / sum_of_all_elements\n",
    "\n",
    "clf = sklearn.neural_network.MLPClassifier(hidden_layer_sizes=(200,150,100), max_iter=1000,activation = 'relu',solver='adam',random_state=1).fit(X_train, y_train)\n",
    "\n",
    "kf = KFold(n_splits = 10, shuffle=True)\n",
    "\n",
    "acc = []\n",
    "matrix = None\n",
    "first = True\n",
    "\n",
    "i = 1\n",
    "for train_index, test_index in kf.split(X_train, y_train):\n",
    "    print('{}-Fold'.format(i))\n",
    "    fX_train, fX_test = X_train.iloc[train_index,:], X_train.iloc[test_index,:]\n",
    "    fy_train, fy_test = y_train[train_index], y_train[test_index]\n",
    "    clf.fit(fX_train, fy_train)\n",
    "    fy_pred = clf.predict(fX_test)\n",
    "#     curr = accuracy_score(fy_test, fy_pred, normalize=True)\n",
    "    cm = confusion_matrix(fy_test, fy_pred)\n",
    "    acc.append(cm)\n",
    "    i = i+1\n",
    "\n",
    "acc = pd.Series(acc)\n",
    "print(acc.mean())"
   ]
  },
  {
   "cell_type": "markdown",
   "metadata": {},
   "source": []
  },
  {
   "cell_type": "code",
   "execution_count": 60,
   "metadata": {},
   "outputs": [
    {
     "data": {
      "image/png": "[encoded data removed]",
      "text/plain": [
       "<Figure size 432x288 with 1 Axes>"
      ]
     },
     "metadata": {
      "needs_background": "light"
     },
     "output_type": "display_data"
    }
   ],
   "source": [
    "loss_values = classifier.loss_curve_\n",
    "plt.plot(loss_values)\n",
    "plt.show()"
   ]
  },
  {
   "cell_type": "code",
   "execution_count": 58,
   "metadata": {},
   "outputs": [
    {
     "name": "stdout",
     "output_type": "stream",
     "text": [
      "Accuracy of MLPClassifier : '' 0.989447\n"
     ]
    },
    {
     "data": {
      "image/png": "[encoded data removed]",
      "text/plain": [
       "<Figure size 432x288 with 1 Axes>"
      ]
     },
     "metadata": {
      "needs_background": "light"
     },
     "output_type": "display_data"
    }
   ],
   "source": [
    "classifier = sklearn.neural_network.MLPClassifier(learning_rate = 'constant',alpha=0.001,hidden_layer_sizes=(128,64,10), max_iter=1000,activation = 'relu',solver='adam',random_state=1).fit(X_train, y_train)\n",
    "y_pred = classifier.predict(X_test)\n",
    "cm = confusion_matrix(y_test, y_pred)\n",
    "print(\"Accuracy of MLPClassifier : ''\", accuracy(cm))\n",
    "\n",
    "loss_values = classifier.loss_curve_\n",
    "plt.plot()\n",
    "plt.show()"
   ]
  },
  {
   "cell_type": "code",
   "execution_count": null,
   "metadata": {},
   "outputs": [],
   "source": [
    "class Net(nn.Module):\n",
    "  def __init__(self, n_features):\n",
    "    super(Net, self).__init__()\n",
    "    self.fc1 = nn.Linear(n_features, 5)\n",
    "    self.fc2 = nn.Linear(5, 3)\n",
    "    self.fc3 = nn.Linear(3, 1)\n",
    "  def forward(self, x):\n",
    "    x = F.relu(self.fc1(x))\n",
    "    x = F.relu(self.fc2(x))\n",
    "    return torch.sigmoid(self.fc3(x))\n",
    "net = Net(X_train.shape[1])"
   ]
  }
 ],
 "metadata": {
  "kernelspec": {
   "display_name": "Python 3",
   "language": "python",
   "name": "python3"
  },
  "language_info": {
   "codemirror_mode": {
    "name": "ipython",
    "version": 3
   },
   "file_extension": ".py",
   "mimetype": "text/x-python",
   "name": "python",
   "nbconvert_exporter": "python",
   "pygments_lexer": "ipython3",
   "version": "3.8.3"
  }
 },
 "nbformat": 4,
 "nbformat_minor": 1
}
