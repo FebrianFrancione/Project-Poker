{
 "cells": [
  {
   "cell_type": "markdown",
   "metadata": {
    "collapsed": true
   },
   "source": [
    "# Poker Hands UCI Classifications\n",
    "The Poker Hands dataset is taken from here: https://archive.ics.uci.edu/ml/datasets/Poker+Hand"
   ]
  },
  {
   "cell_type": "code",
   "execution_count": 17,
   "metadata": {
    "pycharm": {
     "name": "#%%\n"
    }
   },
   "outputs": [],
   "source": [
    "import numpy as np\n",
    "import matplotlib.pyplot as plt"
   ]
  },
  {
   "cell_type": "code",
   "execution_count": 25,
   "metadata": {
    "pycharm": {
     "name": "#%%\n"
    }
   },
   "outputs": [
    {
     "name": "stdout",
     "output_type": "stream",
     "text": [
      "(25010, 11)\n",
      "(1000000, 11)\n"
     ]
    }
   ],
   "source": [
    "data_train = np.loadtxt('poker-hand-training-true.data', delimiter=',')\n",
    "print(data_train.shape)\n",
    "\n",
    "data_test = np.loadtxt('poker-hand-testing.data', delimiter=',')\n",
    "print(data_test.shape)\n"
   ]
  },
  {
   "cell_type": "code",
   "execution_count": 29,
   "metadata": {},
   "outputs": [
    {
     "name": "stdout",
     "output_type": "stream",
     "text": [
      "[ 1. 10.  1. 11.  1. 13.  1. 12.  1.  1.  9.]\n",
      "[ 1.  1.  1. 13.  2.  4.  2.  3.  1. 12.  0.]\n"
     ]
    }
   ],
   "source": [
    "print(data_train[0,:])\n",
    "# verify that the file being open is indeed the top of the file.\n",
    "print(data_test[0,:])"
   ]
  },
  {
   "cell_type": "code",
   "execution_count": 38,
   "metadata": {},
   "outputs": [
    {
     "ename": "AttributeError",
     "evalue": "'numpy.ndarray' object has no attribute 'head'",
     "output_type": "error",
     "traceback": [
      "\u001B[1;31m---------------------------------------------------------------------------\u001B[0m",
      "\u001B[1;31mAttributeError\u001B[0m                            Traceback (most recent call last)",
      "\u001B[1;32m<ipython-input-38-733f81886800>\u001B[0m in \u001B[0;36m<module>\u001B[1;34m\u001B[0m\n\u001B[0;32m      3\u001B[0m \u001B[1;33m\u001B[0m\u001B[0m\n\u001B[0;32m      4\u001B[0m \u001B[1;31m# data_train.head()\u001B[0m\u001B[1;33m\u001B[0m\u001B[1;33m\u001B[0m\u001B[1;33m\u001B[0m\u001B[0m\n\u001B[1;32m----> 5\u001B[1;33m \u001B[0mdata_train\u001B[0m\u001B[1;33m.\u001B[0m\u001B[0mhead\u001B[0m\u001B[1;33m(\u001B[0m\u001B[1;33m)\u001B[0m\u001B[1;33m\u001B[0m\u001B[1;33m\u001B[0m\u001B[0m\n\u001B[0m",
      "\u001B[1;31mAttributeError\u001B[0m: 'numpy.ndarray' object has no attribute 'head'"
     ]
    }
   ],
   "source": [
    "# np.append(data_train,\"Suit 1\", \"Card 1\", \"Suit 2\", \"Card 2\", \"Suit 3\", \"Card 3\",\"Suit 4\", \"Card 4\",\"Suit 5\", \"Card 5\",\"Poker Hand\", dtype=object)\n",
    "# # data_test.columns(\"Suit 1\", \"Card 1\", \"Suit 2\", \"Card 2\", \"Suit 3\", \"Card 3\",\"Suit 4\", \"Card 4\",\"Suit 5\", \"Card 5\",\"Poker Hand\")\n",
    "\n",
    "# data_train.head()\n"
   ]
  },
  {
   "cell_type": "markdown",
   "metadata": {},
   "source": [
    "Extracting Poker Hand type and features:"
   ]
  },
  {
   "cell_type": "code",
   "execution_count": 57,
   "metadata": {},
   "outputs": [],
   "source": [
    "X_train = data_train[:,:-1]\n",
    "\n",
    "selector = [x for x in range(data_train.shape[1]) if x == 10]\n",
    "y_train = data_train[:, selector]\n",
    "\n",
    "X_test = data_test[:,:-1]\n",
    "y_test = data_test[:, selector]"
   ]
  },
  {
   "cell_type": "code",
   "execution_count": 65,
   "metadata": {},
   "outputs": [
    {
     "name": "stdout",
     "output_type": "stream",
     "text": [
      "(25010, 10)\n",
      "[ 1. 10.  1. 11.  1. 13.  1. 12.  1.  1.]\n",
      "(25010, 1)\n",
      "[9.]\n",
      "(1000000, 10)\n",
      "[ 1.  1.  1. 13.  2.  4.  2.  3.  1. 12.]\n",
      "(1000000,)\n"
     ]
    },
    {
     "ename": "IndexError",
     "evalue": "too many indices for array: array is 1-dimensional, but 2 were indexed",
     "output_type": "error",
     "traceback": [
      "\u001B[1;31m---------------------------------------------------------------------------\u001B[0m",
      "\u001B[1;31mIndexError\u001B[0m                                Traceback (most recent call last)",
      "\u001B[1;32m<ipython-input-65-30b9284e4b49>\u001B[0m in \u001B[0;36m<module>\u001B[1;34m\u001B[0m\n\u001B[0;32m      9\u001B[0m \u001B[1;33m\u001B[0m\u001B[0m\n\u001B[0;32m     10\u001B[0m \u001B[0mprint\u001B[0m\u001B[1;33m(\u001B[0m\u001B[0my_test\u001B[0m\u001B[1;33m.\u001B[0m\u001B[0mshape\u001B[0m\u001B[1;33m)\u001B[0m\u001B[1;33m\u001B[0m\u001B[1;33m\u001B[0m\u001B[0m\n\u001B[1;32m---> 11\u001B[1;33m \u001B[0mprint\u001B[0m\u001B[1;33m(\u001B[0m\u001B[0my_test\u001B[0m\u001B[1;33m[\u001B[0m\u001B[1;36m0\u001B[0m\u001B[1;33m,\u001B[0m\u001B[1;33m:\u001B[0m\u001B[1;33m]\u001B[0m\u001B[1;33m)\u001B[0m\u001B[1;33m\u001B[0m\u001B[1;33m\u001B[0m\u001B[0m\n\u001B[0m",
      "\u001B[1;31mIndexError\u001B[0m: too many indices for array: array is 1-dimensional, but 2 were indexed"
     ]
    }
   ],
   "source": [
    "# print(X_train.shape)\n",
    "# print(X_train[0,:])\n",
    "\n",
    "# print(y_train.shape)\n",
    "# print(y_train[0,:])\n",
    "\n",
    "print(X_test.shape)\n",
    "print(X_test[0,:])\n",
    "\n",
    "print(y_test.shape)\n",
    "print(y_test[0,:])"
   ]
  },
  {
   "cell_type": "markdown",
   "metadata": {},
   "source": [
    "As we can see, the Poker Hands Dataset has 11 columns to represent th etc..."
   ]
  }
 ],
 "metadata": {
  "kernelspec": {
   "display_name": "Python 3",
   "language": "python",
   "name": "python3"
  },
  "language_info": {
   "codemirror_mode": {
    "name": "ipython",
    "version": 3
   },
   "file_extension": ".py",
   "mimetype": "text/x-python",
   "name": "python",
   "nbconvert_exporter": "python",
   "pygments_lexer": "ipython3",
   "version": "3.8.3"
  }
 },
 "nbformat": 4,
 "nbformat_minor": 1
}