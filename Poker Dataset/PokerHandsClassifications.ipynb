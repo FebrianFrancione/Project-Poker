{
 "cells": [
  {
   "cell_type": "markdown",
   "metadata": {
    "collapsed": true
   },
   "source": [
    "# Poker Hands UCI Classifications\n",
    "The Poker Hands dataset is taken from here: https://archive.ics.uci.edu/ml/datasets/Poker+Hand"
   ]
  },
  {
   "cell_type": "code",
   "execution_count": null,
   "metadata": {
    "pycharm": {
     "name": "#%%\n"
    }
   },
   "outputs": [],
   "source": [
    "import numpy as np\n",
    "import matplotlib.pyplot as plt\n",
    "import pandas as pd\n",
    "from sklearn.model_selection import KFold, train_test_split, StratifiedKFold\n",
    "import sklearn.tree   \n",
    "from sklearn.metrics import accuracy_score\n",
    "from sklearn.linear_model import LogisticRegression\n",
    "from sklearn.model_selection import cross_val_score\n",
    "from sklearn import svm"
   ]
  },
  {
   "cell_type": "code",
   "execution_count": null,
   "metadata": {
    "pycharm": {
     "name": "#%%\n"
    }
   },
   "outputs": [],
   "source": [
    "# data_train = np.loadtxt('poker-hand-training-true.data', delimiter=',')\n",
    "\n",
    "# data_test = np.loadtxt('poker-hand-testing.data', delimiter=',')\n",
    "\n",
    "data_train = pd.read_csv('poker-hand-training-true.data', header=None)\n",
    "print(data_train.shape)\n",
    "data_test = pd.read_csv('poker-hand-testing.data', header=None)\n",
    "print(data_test.shape)\n"
   ]
  },
  {
   "cell_type": "code",
   "execution_count": null,
   "metadata": {},
   "outputs": [],
   "source": [
    "data_train.columns = [\"Suit 1\", \"Card 1\", \"Suit 2\", \"Card 2\", \"Suit 3\", \"Card 3\",\"Suit 4\", \"Card 4\",\"Suit 5\", \"Card 5\",\"Poker Hand\"]\n",
    "print(data_train.head())"
   ]
  },
  {
   "cell_type": "code",
   "execution_count": null,
   "metadata": {},
   "outputs": [],
   "source": [
    "data_test.columns = [\"Suit 1\", \"Card 1\", \"Suit 2\", \"Card 2\", \"Suit 3\", \"Card 3\",\"Suit 4\", \"Card 4\",\"Suit 5\",\"Card 5\",\"Poker Hand\"]\n",
    "print(data_test.head(10))"
   ]
  },
  {
   "cell_type": "markdown",
   "metadata": {},
   "source": [
    "Extracting Poker Hand type and features:"
   ]
  },
  {
   "cell_type": "code",
   "execution_count": null,
   "metadata": {},
   "outputs": [],
   "source": [
    "X_train = data_train.iloc[:,:-1]\n",
    "y_train = data_train[\"Poker Hand\"]\n",
    "\n",
    "\n",
    "X_test = data_test.iloc[:,:-1]\n",
    "y_test = data_test[\"Poker Hand\"]\n",
    "\n",
    "\n"
   ]
  },
  {
   "cell_type": "code",
   "execution_count": null,
   "metadata": {},
   "outputs": [],
   "source": [
    "print(y_train.shape)\n",
    "print(y_train.head(10))\n",
    "\n",
    "print(y_test.shape)\n",
    "print(y_test.head(10))\n"
   ]
  },
  {
   "cell_type": "markdown",
   "metadata": {},
   "source": [
    "As we can see, the Poker Hands Dataset has 11 columns to represent th etc..."
   ]
  },
  {
   "cell_type": "code",
   "execution_count": null,
   "metadata": {},
   "outputs": [],
   "source": [
    "clf = sklearn.tree.DecisionTreeClassifier(random_state=0, max_depth = 9, criterion=\"gini\").fit(X_train, y_train)\n",
    "clf2 = sklearn.tree.DecisionTreeClassifier(random_state=0, max_depth = 2, criterion=\"gini\").fit(X_train, y_train)\n",
    "y_pred = clf.predict(X_test)\n",
    "print(accuracy_score(y_test, y_pred, normalize=True))\n",
    "                                                                                                \n",
    "y_pred2 = clf2.predict(X_test)\n",
    "print(accuracy_score(y_test, y_pred2, normalize=True))"
   ]
  },
  {
   "cell_type": "markdown",
   "metadata": {},
   "source": [
    "Using DecisonTree Classifer and usign max_depth of 9 will result in accuracy of 0.52719. To equalize accuracy with that of Logistic Regression, we select max_depth = 2"
   ]
  },
  {
   "cell_type": "code",
   "execution_count": null,
   "metadata": {},
   "outputs": [],
   "source": [
    "clf = sklearn.linear_model.LogisticRegression(random_state=0, solver=\"lbfgs\", max_iter=100, multi_class=\"ovr\").fit(X_train, y_train)\n",
    "y_pred = clf.predict(X_test)\n",
    "accuracy_score(y_pred,y_test)"
   ]
  },
  {
   "cell_type": "markdown",
   "metadata": {},
   "source": [
    "Using LogisticRegression classifier - Slightly better than DecisionTree using the same data set. Using the "
   ]
  },
  {
   "cell_type": "code",
   "execution_count": null,
   "metadata": {},
   "outputs": [],
   "source": [
    "# SVM\n",
    "clf = sklearn.svm.SVC(kernel='linear')\n",
    "clf.fit(X_train,y_train) \n",
    "y_pred = clf.predict(X_test)\n",
    "accuracy_score(y_pred,y_test)\n"
   ]
  },
  {
   "cell_type": "code",
   "execution_count": null,
   "metadata": {},
   "outputs": [],
   "source": [
    "from sklearn import svm\n",
    "clf = svm.LinearSVC()\n",
    "clf.fit(x_train,y_train) \n",
    "y_pred = clf.predict(x_test)\n",
    "accuracy_score(y_pred,y_test)"
   ]
  },
  {
   "cell_type": "markdown",
   "metadata": {},
   "source": [
    "The accuracy_score we got from the SVm results in : 0.559363 (Took a while to train"
   ]
  },
  {
   "cell_type": "markdown",
   "metadata": {
    "pycharm": {
     "name": "#%% md\n"
    }
   },
   "source": [
    "We will now preprocess the data to achieve a higher accuracy"
   ]
  },
  {
   "cell_type": "code",
   "execution_count": null,
   "metadata": {
    "pycharm": {
     "name": "#%%\n"
    }
   },
   "outputs": [],
   "source": [
    "X_train_processed = data_train.copy()\n",
    "cards = X_train_processed[[\"Card 1\", \"Card 2\", \"Card 3\", \"Card 4\", \"Card 5\"]]\n",
    "cards.values.sort()\n",
    "X_train_processed[[\"Card 1\", \"Card 2\", \"Card 3\", \"Card 4\", \"Card 5\"]] = cards\n",
    "X_train_processed = X_train_processed[[\"Card 1\", \"Card 2\", \"Card 3\", \"Card 4\", \"Card 5\", \"Suit 1\", \"Suit 2\", \"Suit 3\", \"Suit 4\", \"Suit 5\", \"Poker Hand\"]]\n",
    "\n",
    "\n",
    "X_test_processed = data_test.copy()\n",
    "cards = X_test_processed[[\"Card 1\", \"Card 2\", \"Card 3\", \"Card 4\", \"Card 5\"]]\n",
    "cards.values.sort()\n",
    "X_test_processed[[\"Card 1\", \"Card 2\", \"Card 3\", \"Card 4\", \"Card 5\"]] = cards\n",
    "X_test_processed = X_test_processed[[\"Card 1\", \"Card 2\", \"Card 3\", \"Card 4\", \"Card 5\", \"Suit 1\", \"Suit 2\", \"Suit 3\", \"Suit 4\", \"Suit 5\", \"Poker Hand\"]]\n",
    "\n",
    "X_train = X_train_processed.loc[:,X_train_processed.columns != \"Poker Hand\"]\n",
    "X_test = X_test_processed.loc[:,X_test_processed.columns != \"Poker Hand\"]\n"
   ]
  },
  {
   "cell_type": "markdown",
   "metadata": {
    "pycharm": {
     "name": "#%% md\n"
    }
   },
   "source": [
    "Now doing a 10 fold cv for the DecisionTree Classifier"
   ]
  },
  {
   "cell_type": "code",
   "execution_count": null,
   "metadata": {},
   "outputs": [],
   "source": [
    "# using the same tree as before\n",
    "clf = sklearn.tree.DecisionTreeClassifier(random_state=1, criterion='gini')\n",
    "# cross_validation(alg, X_train, Y_train)\n",
    "kf = KFold(n_splits = 10, shuffle=True)\n",
    "\n",
    "acc = []\n",
    "matrix = None\n",
    "first = True\n",
    "\n",
    "i = 1\n",
    "for train_index, test_index in kf.split(X_train, y_train):\n",
    "    print('{}-Fold'.format(i))\n",
    "    fX_train, fX_test = X_train.iloc[train_index,:], X_train.iloc[test_index,:]\n",
    "    fy_train, fy_test = y_train[train_index], y_train[test_index]\n",
    "    clf.fit(fX_train, fy_train)\n",
    "    fy_pred = clf.predict(fX_test)\n",
    "    curr = accuracy_score(fy_test, fy_pred, normalize=True)\n",
    "    acc.append(curr)\n",
    "    i = i+1\n",
    "\n",
    "acc = pd.Series(acc)\n",
    "print(acc.mean())\n",
    "# return acc.mean()"
   ]
  },
  {
   "cell_type": "code",
   "execution_count": null,
   "metadata": {},
   "outputs": [],
   "source": [
    "clf = sklearn.tree.DecisionTreeClassifier(random_state=1,criterion='gini')\n",
    "clf.fit(X_train, y_train)\n",
    "y_pred = clf.predict(X_test)\n",
    "accuracy_score(y_test, y_pred, normalize=True)"
   ]
  },
  {
   "cell_type": "markdown",
   "metadata": {},
   "source": [
    "96% is pretty good. We have essentially doubled the correcteness of our predictions simply by re-arranging the cards into Cards and Suits. Compared to random state = 0, we get a better result using random state 1"
   ]
  },
  {
   "cell_type": "code",
   "execution_count": null,
   "metadata": {},
   "outputs": [],
   "source": [
    "pd.crosstab(y_pred, y_test, rownames=['Predicted'], colnames=['True'], margins=True)"
   ]
  },
  {
   "cell_type": "markdown",
   "metadata": {},
   "source": [
    "By analyzing the data shown in the table, we can observe how the True/Predicted values in the upper end have prediction disparity. This means that the flushes and higher reward hands are causing prediction erros."
   ]
  },
  {
   "cell_type": "code",
   "execution_count": null,
   "metadata": {},
   "outputs": [],
   "source": [
    "tmp = X_test[[\"Suit 1\", \"Suit 2\", \"Suit 3\", \"Suit 4\", \"Suit 5\"]]\n",
    "X_test[\"Unique\"] = tmp.apply(lambda x: len(np.unique(x)) , axis=1)"
   ]
  },
  {
   "cell_type": "code",
   "execution_count": null,
   "metadata": {
    "pycharm": {
     "name": "#%%\n"
    }
   },
   "outputs": [],
   "source": [
    "tmp = X_train[[\"Suit 1\", \"Suit 2\", \"Suit 3\", \"Suit 4\", \"Suit 5\"]]\n",
    "X_train[\"Unique\"] = tmp.apply(lambda x: len(np.unique(x)) , axis=1)"
   ]
  },
  {
   "cell_type": "code",
   "execution_count": null,
   "metadata": {},
   "outputs": [],
   "source": [
    "tree = sklearn.tree.DecisionTreeClassifier(random_state=0, criterion='gini')\n",
    "tree.fit(X_train, y_train)\n",
    "y_pred = tree.predict(X_test)\n",
    "accuracy_score(y_test, y_pred, normalize=True)"
   ]
  },
  {
   "cell_type": "markdown",
   "metadata": {},
   "source": [
    "Much better, we're now at 96%, slightly higher than previously but now the data should be more spread out and the prediciton should be less sparse."
   ]
  },
  {
   "cell_type": "code",
   "execution_count": null,
   "metadata": {},
   "outputs": [],
   "source": [
    "pd.crosstab(y_pred, y_test, rownames=['Predicted'], colnames=['True'], margins=True)"
   ]
  },
  {
   "cell_type": "markdown",
   "source": [
    "What we see in this cross tab: flushes have now been resolved but the last two poker hands are still slightly cause for mispredictions. 12-5 and 230-155, still these are very slight but can be cause for accuracy concerns. Straight flushes are bieng underepresented. "
   ],
   "metadata": {
    "collapsed": false
   }
  },
  {
   "cell_type": "code",
   "execution_count": null,
   "outputs": [],
   "source": [
    "X_train[\"Diff1\"] = X_train[\"Card 5\"] - X_train[\"Card 4\"]\n",
    "X_train[\"Diff2\"] = X_train[\"Card 4\"] - X_train[\"Card 3\"]\n",
    "X_train[\"Diff3\"] = X_train[\"Card 3\"] - X_train[\"Card 2\"]\n",
    "X_train[\"Diff4\"] = X_train[\"Card 2\"] - X_train[\"Card 1\"]\n",
    "\n",
    "X_test[\"Diff1\"] = X_test[\"Card 5\"] - X_test[\"Card 4\"]\n",
    "X_test[\"Diff2\"] = X_test[\"Card 4\"] - X_test[\"Card 3\"]\n",
    "X_test[\"Diff3\"] = X_test[\"Card 3\"] - X_test[\"Card 2\"]\n",
    "X_test[\"Diff4\"] = X_test[\"Card 2\"] - X_test[\"Card 1\"]\n",
    "\n",
    "tree = sklearn.tree.DecisionTreeClassifier(random_state=0, criterion='gini')\n",
    "tree.fit(X_train, y_train)\n",
    "y_pred = tree.predict(X_test)\n",
    "accuracy_score(y_test, y_pred, normalize=True)\n"
   ],
   "metadata": {
    "collapsed": false,
    "pycharm": {
     "name": "#%%\n"
    }
   }
  },
  {
   "cell_type": "markdown",
   "source": [
    "Much better! Now we find our predictions to be in the upper 99% bound of accuracy predicions.\n"
   ],
   "metadata": {
    "collapsed": false
   }
  },
  {
   "cell_type": "code",
   "execution_count": null,
   "outputs": [],
   "source": [
    "pd.crosstab(y_pred, y_test, rownames=['Predicted'], colnames=['True'], margins=True)"
   ],
   "metadata": {
    "collapsed": false,
    "pycharm": {
     "name": "#%%\n"
    }
   }
  },
  {
   "cell_type": "markdown",
   "source": [
    "We now see that the model is bad at predicting flushes and above (The stronger hands). We have concluded that\n",
    "the Decision Tree Classifer is decent ad prediciting weaker hands but continuosuly struugles in predicitng with stronger ones."
   ],
   "metadata": {
    "collapsed": false
   }
  },
  {
   "cell_type": "code",
   "execution_count": null,
   "outputs": [],
   "source": [],
   "metadata": {
    "collapsed": false,
    "pycharm": {
     "name": "#%%\n"
    }
   }
  },
  {
   "cell_type": "code",
   "execution_count": null,
   "outputs": [],
   "source": [],
   "metadata": {
    "collapsed": false,
    "pycharm": {
     "name": "#%%\n"
    }
   }
  },
  {
   "cell_type": "markdown",
   "metadata": {},
   "source": []
  },
  {
   "cell_type": "code",
   "execution_count": null,
   "metadata": {},
   "outputs": [],
   "source": [
    "X_train[\"Diff1\"] = X_train[\"Card 5\"] - X_train[\"Card 4\"]\n",
    "X_train[\"Diff2\"] = X_train[\"Card 4\"] - X_train[\"Card 3\"]\n",
    "X_train[\"Diff3\"] = X_train[\"Card 3\"] - X_train[\"Card 2\"]\n",
    "X_train[\"Diff4\"] = X_train[\"Card 2\"] - X_train[\"Card 1\"]\n",
    "\n",
    "X_test[\"Diff1\"] = X_test[\"Card 5\"] - X_test[\"Card 4\"]\n",
    "X_test[\"Diff2\"] = X_test[\"Card 4\"] - X_test[\"Card 3\"]\n",
    "X_test[\"Diff3\"] = X_test[\"Card 3\"] - X_test[\"Card 2\"]\n",
    "X_test[\"Diff4\"] = X_test[\"Card 2\"] - X_test[\"Card 1\"]\n",
    "\n",
    "tree = sklearn.tree.DecisionTreeClassifier(random_state=0, criterion='gini')\n",
    "tree.fit(X_train, y_train)\n",
    "y_pred = tree.predict(X_test)\n",
    "accuracy_score(y_test, y_pred, normalize=True)\n"
   ]
  },
  {
   "cell_type": "markdown",
   "metadata": {},
   "source": [
    "Much better! Now we find our predictions to be in the upper 99% bound of accuracy predicions.\n"
   ]
  },
  {
   "cell_type": "code",
   "execution_count": null,
   "metadata": {},
   "outputs": [],
   "source": [
    "pd.crosstab(y_pred, y_test, rownames=['Predicted'], colnames=['True'], margins=True)"
   ]
  },
  {
   "cell_type": "markdown",
   "metadata": {},
   "source": [
    "We now see that the model is bad at predicting flushes and above (The stronger hands). We have concluded that\n",
    "the Decision Tree Classifer is decent ad prediciting weaker hands but continuosuly struugles in predicitng with stronger ones."
   ]
  },
  {
   "cell_type": "code",
   "execution_count": null,
   "metadata": {},
   "outputs": [],
   "source": []
  },
  {
   "cell_type": "code",
   "execution_count": null,
   "metadata": {},
   "outputs": [],
   "source": []
  },
  {
   "cell_type": "code",
   "execution_count": null,
   "metadata": {},
   "outputs": [],
   "source": []
  }
 ],
 "metadata": {
  "kernelspec": {
   "display_name": "Python 3",
   "language": "python",
   "name": "python3"
  },
  "language_info": {
   "codemirror_mode": {
    "name": "ipython",
    "version": 3
   },
   "file_extension": ".py",
   "mimetype": "text/x-python",
   "name": "python",
   "nbconvert_exporter": "python",
   "pygments_lexer": "ipython3",
   "version": "3.8.3"
  }
 },
 "nbformat": 4,
 "nbformat_minor": 1
}