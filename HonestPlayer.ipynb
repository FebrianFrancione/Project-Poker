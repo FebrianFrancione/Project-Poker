{
 "cells": [
  {
   "cell_type": "code",
   "execution_count": 10,
   "metadata": {},
   "outputs": [],
   "source": [
    "#Retrieved from https://medium.com/@andreasthiele/building-your-own-no-limit-texas-holdem-poker-bot-in-python-cd9919302c1c\n",
    "from pypokerengine.players import BasePokerPlayer\n",
    "from pypokerengine.utils.card_utils import gen_cards, estimate_hole_card_win_rate\n",
    "\n",
    "NB_SIMULATION = 1000\n",
    "\n",
    "class HonestPlayer(BasePokerPlayer):\n",
    "\n",
    "    def declare_action(self, valid_actions, hole_card, round_state):\n",
    "        \n",
    "        community_card = round_state['community_card']\n",
    "        win_rate = estimate_hole_card_win_rate(\n",
    "                nb_simulation=NB_SIMULATION,\n",
    "                nb_player=self.nb_player,\n",
    "                hole_card=gen_cards(hole_card),\n",
    "                community_card=gen_cards(community_card)\n",
    "                )\n",
    "        print(hole_card)\n",
    "        print(community_card)\n",
    "        \n",
    "        if win_rate >= 1.0 / self.nb_player:\n",
    "            action = valid_actions[1]  # fetch CALL action info\n",
    "        else:\n",
    "            action = valid_actions[0]  # fetch FOLD action info\n",
    "        return action['action'], action['amount']\n",
    "\n",
    "    def receive_game_start_message(self, game_info):\n",
    "        self.nb_player = game_info['player_num']\n",
    "\n",
    "    def receive_round_start_message(self, round_count, hole_card, seats):\n",
    "        pass\n",
    "\n",
    "    def receive_street_start_message(self, street, round_state):\n",
    "        pass\n",
    "\n",
    "    def receive_game_update_message(self, action, round_state):\n",
    "        pass\n",
    "\n",
    "    def receive_round_result_message(self, winners, hand_info, round_state):\n",
    "        pass"
   ]
  }
 ],
 "metadata": {
  "kernelspec": {
   "display_name": "Python 3",
   "language": "python",
   "name": "python3"
  },
  "language_info": {
   "codemirror_mode": {
    "name": "ipython",
    "version": 3
   },
   "file_extension": ".py",
   "mimetype": "text/x-python",
   "name": "python",
   "nbconvert_exporter": "python",
   "pygments_lexer": "ipython3",
   "version": "3.8.3"
  }
 },
 "nbformat": 4,
 "nbformat_minor": 4
}
